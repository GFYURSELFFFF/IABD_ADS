{
 "cells": [
  {
   "cell_type": "code",
   "execution_count": null,
   "id": "984294c0",
   "metadata": {},
   "outputs": [],
   "source": [
    "# intalação biblioteca pandas\n",
    "!pip install pandas"
   ]
  },
  {
   "cell_type": "code",
   "execution_count": 2,
   "id": "1f41fc16",
   "metadata": {},
   "outputs": [],
   "source": [
    "# importar a bibliotaca pandas \n",
    "import pandas as pd"
   ]
  },
  {
   "cell_type": "code",
   "execution_count": null,
   "id": "368b4368",
   "metadata": {},
   "outputs": [],
   "source": [
    "# Criando um dicionario no Python \n",
    "\n",
    "Dicionario = {\n",
    "    'A': [1,2,3],\n",
    "    'B': [-3,-2,-1],\n",
    "    'C': [0,10,20]\n",
    "}\n",
    "\n",
    "# Criando um index para linhas do dicionario \n",
    "Label = ['1ª Linha', '2ª Linha', '3ª Linha']\n",
    "\n",
    "# Criar o Dataframe\n",
    "Dataframe_01 = pd.DataFrame(Dicionario, index=Label)\n",
    "print(Dataframe_01)"
   ]
  },
  {
   "cell_type": "code",
   "execution_count": null,
   "id": "df272551",
   "metadata": {},
   "outputs": [],
   "source": [
    "# Selecionando a coluna \n",
    "Dataframe_01[['A','B']]"
   ]
  },
  {
   "cell_type": "code",
   "execution_count": null,
   "id": "844ff2b6",
   "metadata": {},
   "outputs": [],
   "source": [
    "# Selecionando a coluna A e C\n",
    "Dataframe_01[['A','C']]"
   ]
  },
  {
   "cell_type": "code",
   "execution_count": null,
   "id": "96990ac1",
   "metadata": {},
   "outputs": [],
   "source": [
    "# Criando uma nova coluna no DataFrame\n",
    "Dataframe_01['Nova Coluna'] = Dataframe_01['A']*Dataframe_01['B']"
   ]
  },
  {
   "cell_type": "code",
   "execution_count": null,
   "id": "6c11caf3",
   "metadata": {},
   "outputs": [],
   "source": [
    "# Exibindo o DataFrame\n",
    "Dataframe_01"
   ]
  },
  {
   "cell_type": "code",
   "execution_count": null,
   "id": "d975dbbd",
   "metadata": {},
   "outputs": [],
   "source": [
    "# Exibindo mais de um valor na cecula do Jupyter notebook\n",
    "a = 5\n",
    "print(a)\n",
    "Dataframe_01"
   ]
  },
  {
   "cell_type": "code",
   "execution_count": null,
   "id": "c1be641d",
   "metadata": {},
   "outputs": [],
   "source": [
    "# Excluindo uma coluna do DataFrame \n",
    "Dataframe_01.drop('Nova Coluna', axis=1) # Drop exclui a linha do DataFrame"
   ]
  },
  {
   "cell_type": "code",
   "execution_count": null,
   "id": "427b96a1",
   "metadata": {},
   "outputs": [],
   "source": [
    "# Excluindo de forma permanente a coluna do Dataframe\n",
    "Dataframe_01.drop('Nova Coluna', axis=1, inplace=True) #Drop exclui a coluna do Dataframe\n",
    "\n",
    "Dataframe_01"
   ]
  },
  {
   "cell_type": "code",
   "execution_count": null,
   "id": "52e2c06f",
   "metadata": {},
   "outputs": [],
   "source": [
    "# Localizando uma linha no DataFrame \n",
    "Dataframe_01.loc['1ª Linha']"
   ]
  },
  {
   "cell_type": "code",
   "execution_count": null,
   "id": "948e77e3",
   "metadata": {},
   "outputs": [],
   "source": [
    "# Localizando uma linha no DataFrame \n",
    "Dataframe_01.loc['2ª Linha']"
   ]
  },
  {
   "cell_type": "code",
   "execution_count": null,
   "id": "40382789",
   "metadata": {},
   "outputs": [],
   "source": [
    "# Localizando uma linha no DataFrame \n",
    "Dataframe_01.loc['3ª Linha']"
   ]
  },
  {
   "cell_type": "code",
   "execution_count": null,
   "id": "1facf735",
   "metadata": {},
   "outputs": [],
   "source": [
    "# Localizando linha e coluna \n",
    "Dataframe_01.loc [['1ª Linha', '2ª Linha'],['A','B']]"
   ]
  },
  {
   "cell_type": "code",
   "execution_count": null,
   "id": "1dfb888c",
   "metadata": {},
   "outputs": [],
   "source": [
    "Dataframe_01.head() # Mostra as 4 primeiras linhas do DataFrame "
   ]
  },
  {
   "cell_type": "code",
   "execution_count": null,
   "id": "a01e934f",
   "metadata": {},
   "outputs": [],
   "source": [
    "Dataframe_01.tail() # Mostra as 4 ultimas linhas do DataFrame"
   ]
  },
  {
   "cell_type": "code",
   "execution_count": 37,
   "id": "ca666ec5",
   "metadata": {},
   "outputs": [
    {
     "data": {
      "text/html": [
       "<div>\n",
       "<style scoped>\n",
       "    .dataframe tbody tr th:only-of-type {\n",
       "        vertical-align: middle;\n",
       "    }\n",
       "\n",
       "    .dataframe tbody tr th {\n",
       "        vertical-align: top;\n",
       "    }\n",
       "\n",
       "    .dataframe thead th {\n",
       "        text-align: right;\n",
       "    }\n",
       "</style>\n",
       "<table border=\"1\" class=\"dataframe\">\n",
       "  <thead>\n",
       "    <tr style=\"text-align: right;\">\n",
       "      <th></th>\n",
       "      <th>A</th>\n",
       "      <th>B</th>\n",
       "      <th>C</th>\n",
       "    </tr>\n",
       "  </thead>\n",
       "  <tbody>\n",
       "    <tr>\n",
       "      <th>3ª Linha</th>\n",
       "      <td>3</td>\n",
       "      <td>-1</td>\n",
       "      <td>20</td>\n",
       "    </tr>\n",
       "  </tbody>\n",
       "</table>\n",
       "</div>"
      ],
      "text/plain": [
       "          A  B   C\n",
       "3ª Linha  3 -1  20"
      ]
     },
     "execution_count": 37,
     "metadata": {},
     "output_type": "execute_result"
    }
   ],
   "source": [
    "# Localizando linhas pelo indice numerico\n",
    "Dataframe_01.iloc[2:3] # Linha, Coluna"
   ]
  },
  {
   "cell_type": "code",
   "execution_count": 39,
   "id": "62fc8054",
   "metadata": {},
   "outputs": [
    {
     "data": {
      "text/html": [
       "<div>\n",
       "<style scoped>\n",
       "    .dataframe tbody tr th:only-of-type {\n",
       "        vertical-align: middle;\n",
       "    }\n",
       "\n",
       "    .dataframe tbody tr th {\n",
       "        vertical-align: top;\n",
       "    }\n",
       "\n",
       "    .dataframe thead th {\n",
       "        text-align: right;\n",
       "    }\n",
       "</style>\n",
       "<table border=\"1\" class=\"dataframe\">\n",
       "  <thead>\n",
       "    <tr style=\"text-align: right;\">\n",
       "      <th></th>\n",
       "      <th>A</th>\n",
       "      <th>B</th>\n",
       "      <th>C</th>\n",
       "    </tr>\n",
       "  </thead>\n",
       "  <tbody>\n",
       "    <tr>\n",
       "      <th>1ª Linha</th>\n",
       "      <td>1</td>\n",
       "      <td>-3</td>\n",
       "      <td>0</td>\n",
       "    </tr>\n",
       "    <tr>\n",
       "      <th>2ª Linha</th>\n",
       "      <td>2</td>\n",
       "      <td>-2</td>\n",
       "      <td>10</td>\n",
       "    </tr>\n",
       "  </tbody>\n",
       "</table>\n",
       "</div>"
      ],
      "text/plain": [
       "          A  B   C\n",
       "1ª Linha  1 -3   0\n",
       "2ª Linha  2 -2  10"
      ]
     },
     "execution_count": 39,
     "metadata": {},
     "output_type": "execute_result"
    }
   ],
   "source": [
    "# Localizando linhas pelo indice numerico\n",
    "Dataframe_01.iloc[:2] # Linha, Coluna"
   ]
  },
  {
   "cell_type": "code",
   "execution_count": 40,
   "id": "252c062e",
   "metadata": {},
   "outputs": [],
   "source": [
    "# Criando filtro condicional no DataFrame \n",
    "Filtro = Dataframe_01['C'] > 0  # Armazena o resultado na variavél Filtro \n",
    "Dataframe_02 = Dataframe_01 [Filtro]"
   ]
  },
  {
   "cell_type": "code",
   "execution_count": 41,
   "id": "c6d36f11",
   "metadata": {},
   "outputs": [
    {
     "data": {
      "text/html": [
       "<div>\n",
       "<style scoped>\n",
       "    .dataframe tbody tr th:only-of-type {\n",
       "        vertical-align: middle;\n",
       "    }\n",
       "\n",
       "    .dataframe tbody tr th {\n",
       "        vertical-align: top;\n",
       "    }\n",
       "\n",
       "    .dataframe thead th {\n",
       "        text-align: right;\n",
       "    }\n",
       "</style>\n",
       "<table border=\"1\" class=\"dataframe\">\n",
       "  <thead>\n",
       "    <tr style=\"text-align: right;\">\n",
       "      <th></th>\n",
       "      <th>A</th>\n",
       "      <th>B</th>\n",
       "      <th>C</th>\n",
       "    </tr>\n",
       "  </thead>\n",
       "  <tbody>\n",
       "    <tr>\n",
       "      <th>2ª Linha</th>\n",
       "      <td>2</td>\n",
       "      <td>-2</td>\n",
       "      <td>10</td>\n",
       "    </tr>\n",
       "    <tr>\n",
       "      <th>3ª Linha</th>\n",
       "      <td>3</td>\n",
       "      <td>-1</td>\n",
       "      <td>20</td>\n",
       "    </tr>\n",
       "  </tbody>\n",
       "</table>\n",
       "</div>"
      ],
      "text/plain": [
       "          A  B   C\n",
       "2ª Linha  2 -2  10\n",
       "3ª Linha  3 -1  20"
      ]
     },
     "execution_count": 41,
     "metadata": {},
     "output_type": "execute_result"
    }
   ],
   "source": [
    "Dataframe_02"
   ]
  },
  {
   "cell_type": "code",
   "execution_count": 42,
   "id": "c0fed91a",
   "metadata": {},
   "outputs": [
    {
     "data": {
      "text/html": [
       "<div>\n",
       "<style scoped>\n",
       "    .dataframe tbody tr th:only-of-type {\n",
       "        vertical-align: middle;\n",
       "    }\n",
       "\n",
       "    .dataframe tbody tr th {\n",
       "        vertical-align: top;\n",
       "    }\n",
       "\n",
       "    .dataframe thead th {\n",
       "        text-align: right;\n",
       "    }\n",
       "</style>\n",
       "<table border=\"1\" class=\"dataframe\">\n",
       "  <thead>\n",
       "    <tr style=\"text-align: right;\">\n",
       "      <th></th>\n",
       "      <th>A</th>\n",
       "      <th>B</th>\n",
       "      <th>C</th>\n",
       "    </tr>\n",
       "  </thead>\n",
       "  <tbody>\n",
       "    <tr>\n",
       "      <th>1ª Linha</th>\n",
       "      <td>True</td>\n",
       "      <td>False</td>\n",
       "      <td>False</td>\n",
       "    </tr>\n",
       "    <tr>\n",
       "      <th>2ª Linha</th>\n",
       "      <td>True</td>\n",
       "      <td>False</td>\n",
       "      <td>True</td>\n",
       "    </tr>\n",
       "    <tr>\n",
       "      <th>3ª Linha</th>\n",
       "      <td>True</td>\n",
       "      <td>False</td>\n",
       "      <td>True</td>\n",
       "    </tr>\n",
       "  </tbody>\n",
       "</table>\n",
       "</div>"
      ],
      "text/plain": [
       "             A      B      C\n",
       "1ª Linha  True  False  False\n",
       "2ª Linha  True  False   True\n",
       "3ª Linha  True  False   True"
      ]
     },
     "execution_count": 42,
     "metadata": {},
     "output_type": "execute_result"
    }
   ],
   "source": [
    "Dataframe_01 > 0 # Retorna ao usuario onde os numeros são maior que 0"
   ]
  },
  {
   "cell_type": "code",
   "execution_count": 43,
   "id": "288c950f",
   "metadata": {},
   "outputs": [
    {
     "data": {
      "text/plain": [
       "1ª Linha    False\n",
       "2ª Linha     True\n",
       "3ª Linha     True\n",
       "Name: C, dtype: bool"
      ]
     },
     "execution_count": 43,
     "metadata": {},
     "output_type": "execute_result"
    }
   ],
   "source": [
    "Filtro"
   ]
  },
  {
   "cell_type": "code",
   "execution_count": 47,
   "id": "9fa7aee5",
   "metadata": {},
   "outputs": [
    {
     "data": {
      "text/html": [
       "<div>\n",
       "<style scoped>\n",
       "    .dataframe tbody tr th:only-of-type {\n",
       "        vertical-align: middle;\n",
       "    }\n",
       "\n",
       "    .dataframe tbody tr th {\n",
       "        vertical-align: top;\n",
       "    }\n",
       "\n",
       "    .dataframe thead th {\n",
       "        text-align: right;\n",
       "    }\n",
       "</style>\n",
       "<table border=\"1\" class=\"dataframe\">\n",
       "  <thead>\n",
       "    <tr style=\"text-align: right;\">\n",
       "      <th></th>\n",
       "      <th>A</th>\n",
       "      <th>B</th>\n",
       "      <th>C</th>\n",
       "    </tr>\n",
       "  </thead>\n",
       "  <tbody>\n",
       "    <tr>\n",
       "      <th>2ª Linha</th>\n",
       "      <td>2</td>\n",
       "      <td>-2</td>\n",
       "      <td>10</td>\n",
       "    </tr>\n",
       "    <tr>\n",
       "      <th>3ª Linha</th>\n",
       "      <td>3</td>\n",
       "      <td>-1</td>\n",
       "      <td>20</td>\n",
       "    </tr>\n",
       "  </tbody>\n",
       "</table>\n",
       "</div>"
      ],
      "text/plain": [
       "          A  B   C\n",
       "2ª Linha  2 -2  10\n",
       "3ª Linha  3 -1  20"
      ]
     },
     "execution_count": 47,
     "metadata": {},
     "output_type": "execute_result"
    }
   ],
   "source": [
    "# Criando filtro de duas colunas \n",
    "Dataframe_01[(Dataframe_01['A'] > 1) & (Dataframe_01 ['C'] > 0)]"
   ]
  },
  {
   "cell_type": "code",
   "execution_count": 48,
   "id": "042ea50f",
   "metadata": {},
   "outputs": [
    {
     "data": {
      "text/html": [
       "<div>\n",
       "<style scoped>\n",
       "    .dataframe tbody tr th:only-of-type {\n",
       "        vertical-align: middle;\n",
       "    }\n",
       "\n",
       "    .dataframe tbody tr th {\n",
       "        vertical-align: top;\n",
       "    }\n",
       "\n",
       "    .dataframe thead th {\n",
       "        text-align: right;\n",
       "    }\n",
       "</style>\n",
       "<table border=\"1\" class=\"dataframe\">\n",
       "  <thead>\n",
       "    <tr style=\"text-align: right;\">\n",
       "      <th></th>\n",
       "      <th>A</th>\n",
       "      <th>B</th>\n",
       "      <th>C</th>\n",
       "    </tr>\n",
       "  </thead>\n",
       "  <tbody>\n",
       "    <tr>\n",
       "      <th>2ª Linha</th>\n",
       "      <td>2</td>\n",
       "      <td>-2</td>\n",
       "      <td>10</td>\n",
       "    </tr>\n",
       "    <tr>\n",
       "      <th>3ª Linha</th>\n",
       "      <td>3</td>\n",
       "      <td>-1</td>\n",
       "      <td>20</td>\n",
       "    </tr>\n",
       "  </tbody>\n",
       "</table>\n",
       "</div>"
      ],
      "text/plain": [
       "          A  B   C\n",
       "2ª Linha  2 -2  10\n",
       "3ª Linha  3 -1  20"
      ]
     },
     "execution_count": 48,
     "metadata": {},
     "output_type": "execute_result"
    }
   ],
   "source": [
    "# Criando filtro de duas colunas com logica or\n",
    "\n",
    "Dataframe_01[(Dataframe_01['A'] > 5) | (Dataframe_01 ['C'] > 2)]"
   ]
  },
  {
   "cell_type": "code",
   "execution_count": 49,
   "id": "7ecada06",
   "metadata": {},
   "outputs": [
    {
     "data": {
      "text/html": [
       "<div>\n",
       "<style scoped>\n",
       "    .dataframe tbody tr th:only-of-type {\n",
       "        vertical-align: middle;\n",
       "    }\n",
       "\n",
       "    .dataframe tbody tr th {\n",
       "        vertical-align: top;\n",
       "    }\n",
       "\n",
       "    .dataframe thead th {\n",
       "        text-align: right;\n",
       "    }\n",
       "</style>\n",
       "<table border=\"1\" class=\"dataframe\">\n",
       "  <thead>\n",
       "    <tr style=\"text-align: right;\">\n",
       "      <th></th>\n",
       "      <th>A</th>\n",
       "      <th>B</th>\n",
       "      <th>C</th>\n",
       "    </tr>\n",
       "  </thead>\n",
       "  <tbody>\n",
       "    <tr>\n",
       "      <th>1ª Linha</th>\n",
       "      <td>1</td>\n",
       "      <td>-3</td>\n",
       "      <td>0</td>\n",
       "    </tr>\n",
       "    <tr>\n",
       "      <th>2ª Linha</th>\n",
       "      <td>2</td>\n",
       "      <td>-2</td>\n",
       "      <td>10</td>\n",
       "    </tr>\n",
       "    <tr>\n",
       "      <th>3ª Linha</th>\n",
       "      <td>3</td>\n",
       "      <td>-1</td>\n",
       "      <td>20</td>\n",
       "    </tr>\n",
       "  </tbody>\n",
       "</table>\n",
       "</div>"
      ],
      "text/plain": [
       "          A  B   C\n",
       "1ª Linha  1 -3   0\n",
       "2ª Linha  2 -2  10\n",
       "3ª Linha  3 -1  20"
      ]
     },
     "execution_count": 49,
     "metadata": {},
     "output_type": "execute_result"
    }
   ],
   "source": [
    "Dataframe_01"
   ]
  },
  {
   "cell_type": "code",
   "execution_count": 50,
   "id": "b9cc7d99",
   "metadata": {},
   "outputs": [
    {
     "data": {
      "text/html": [
       "<div>\n",
       "<style scoped>\n",
       "    .dataframe tbody tr th:only-of-type {\n",
       "        vertical-align: middle;\n",
       "    }\n",
       "\n",
       "    .dataframe tbody tr th {\n",
       "        vertical-align: top;\n",
       "    }\n",
       "\n",
       "    .dataframe thead th {\n",
       "        text-align: right;\n",
       "    }\n",
       "</style>\n",
       "<table border=\"1\" class=\"dataframe\">\n",
       "  <thead>\n",
       "    <tr style=\"text-align: right;\">\n",
       "      <th></th>\n",
       "      <th>index</th>\n",
       "      <th>A</th>\n",
       "      <th>B</th>\n",
       "      <th>C</th>\n",
       "    </tr>\n",
       "  </thead>\n",
       "  <tbody>\n",
       "    <tr>\n",
       "      <th>0</th>\n",
       "      <td>1ª Linha</td>\n",
       "      <td>1</td>\n",
       "      <td>-3</td>\n",
       "      <td>0</td>\n",
       "    </tr>\n",
       "    <tr>\n",
       "      <th>1</th>\n",
       "      <td>2ª Linha</td>\n",
       "      <td>2</td>\n",
       "      <td>-2</td>\n",
       "      <td>10</td>\n",
       "    </tr>\n",
       "    <tr>\n",
       "      <th>2</th>\n",
       "      <td>3ª Linha</td>\n",
       "      <td>3</td>\n",
       "      <td>-1</td>\n",
       "      <td>20</td>\n",
       "    </tr>\n",
       "  </tbody>\n",
       "</table>\n",
       "</div>"
      ],
      "text/plain": [
       "      index  A  B   C\n",
       "0  1ª Linha  1 -3   0\n",
       "1  2ª Linha  2 -2  10\n",
       "2  3ª Linha  3 -1  20"
      ]
     },
     "execution_count": 50,
     "metadata": {},
     "output_type": "execute_result"
    }
   ],
   "source": [
    "#Resetando o index do DatFrame \n",
    "Dataframe_01.reset_index()"
   ]
  },
  {
   "cell_type": "code",
   "execution_count": 51,
   "id": "a0708e40",
   "metadata": {},
   "outputs": [
    {
     "data": {
      "text/html": [
       "<div>\n",
       "<style scoped>\n",
       "    .dataframe tbody tr th:only-of-type {\n",
       "        vertical-align: middle;\n",
       "    }\n",
       "\n",
       "    .dataframe tbody tr th {\n",
       "        vertical-align: top;\n",
       "    }\n",
       "\n",
       "    .dataframe thead th {\n",
       "        text-align: right;\n",
       "    }\n",
       "</style>\n",
       "<table border=\"1\" class=\"dataframe\">\n",
       "  <thead>\n",
       "    <tr style=\"text-align: right;\">\n",
       "      <th></th>\n",
       "      <th>A</th>\n",
       "      <th>B</th>\n",
       "      <th>C</th>\n",
       "    </tr>\n",
       "  </thead>\n",
       "  <tbody>\n",
       "    <tr>\n",
       "      <th>1ª Linha</th>\n",
       "      <td>1</td>\n",
       "      <td>-3</td>\n",
       "      <td>0</td>\n",
       "    </tr>\n",
       "    <tr>\n",
       "      <th>2ª Linha</th>\n",
       "      <td>2</td>\n",
       "      <td>-2</td>\n",
       "      <td>10</td>\n",
       "    </tr>\n",
       "    <tr>\n",
       "      <th>3ª Linha</th>\n",
       "      <td>3</td>\n",
       "      <td>-1</td>\n",
       "      <td>20</td>\n",
       "    </tr>\n",
       "  </tbody>\n",
       "</table>\n",
       "</div>"
      ],
      "text/plain": [
       "          A  B   C\n",
       "1ª Linha  1 -3   0\n",
       "2ª Linha  2 -2  10\n",
       "3ª Linha  3 -1  20"
      ]
     },
     "execution_count": 51,
     "metadata": {},
     "output_type": "execute_result"
    }
   ],
   "source": [
    "Dataframe_01"
   ]
  },
  {
   "cell_type": "code",
   "execution_count": null,
   "id": "2eae5505",
   "metadata": {},
   "outputs": [],
   "source": [
    "# Resetando o index do DataFrame de forma definitiva \n",
    "\n",
    "Dataframe_01.reset_index(inplace= True)  # Reseta o index na base de dados digitais"
   ]
  },
  {
   "cell_type": "code",
   "execution_count": 52,
   "id": "1961bc02",
   "metadata": {},
   "outputs": [
    {
     "data": {
      "text/html": [
       "<div>\n",
       "<style scoped>\n",
       "    .dataframe tbody tr th:only-of-type {\n",
       "        vertical-align: middle;\n",
       "    }\n",
       "\n",
       "    .dataframe tbody tr th {\n",
       "        vertical-align: top;\n",
       "    }\n",
       "\n",
       "    .dataframe thead th {\n",
       "        text-align: right;\n",
       "    }\n",
       "</style>\n",
       "<table border=\"1\" class=\"dataframe\">\n",
       "  <thead>\n",
       "    <tr style=\"text-align: right;\">\n",
       "      <th></th>\n",
       "      <th>A</th>\n",
       "      <th>B</th>\n",
       "      <th>C</th>\n",
       "    </tr>\n",
       "  </thead>\n",
       "  <tbody>\n",
       "    <tr>\n",
       "      <th>1ª Linha</th>\n",
       "      <td>1</td>\n",
       "      <td>-3</td>\n",
       "      <td>0</td>\n",
       "    </tr>\n",
       "    <tr>\n",
       "      <th>2ª Linha</th>\n",
       "      <td>2</td>\n",
       "      <td>-2</td>\n",
       "      <td>10</td>\n",
       "    </tr>\n",
       "    <tr>\n",
       "      <th>3ª Linha</th>\n",
       "      <td>3</td>\n",
       "      <td>-1</td>\n",
       "      <td>20</td>\n",
       "    </tr>\n",
       "  </tbody>\n",
       "</table>\n",
       "</div>"
      ],
      "text/plain": [
       "          A  B   C\n",
       "1ª Linha  1 -3   0\n",
       "2ª Linha  2 -2  10\n",
       "3ª Linha  3 -1  20"
      ]
     },
     "execution_count": 52,
     "metadata": {},
     "output_type": "execute_result"
    }
   ],
   "source": [
    "Dataframe_01"
   ]
  },
  {
   "cell_type": "code",
   "execution_count": null,
   "id": "0bc4d1d2",
   "metadata": {},
   "outputs": [],
   "source": [
    "#Excluindo a coluna do index \n",
    "Dataframe_01.drop('index', axis=1, inplace=True)"
   ]
  },
  {
   "cell_type": "code",
   "execution_count": null,
   "id": "be7b1775",
   "metadata": {},
   "outputs": [],
   "source": [
    "Dataframe_01"
   ]
  },
  {
   "cell_type": "code",
   "execution_count": 55,
   "id": "2a5d9bd4",
   "metadata": {},
   "outputs": [],
   "source": [
    "# Criando varios dicionarios \n",
    "\n",
    "Dicionario_01 = {\n",
    "    'A': [1,2,3],\n",
    "    'B': [-32,-21,-15],\n",
    "    'C': [60,10,20],\n",
    "    'Chave': ['AA', 'BB', 'CC']\n",
    "\n",
    "}\n",
    "\n",
    "# Dicionario 2\n",
    "\n",
    "Dicionario_02 = {\n",
    "    'A': [6,7,8],\n",
    "    'B': [-39,-28,17],\n",
    "    'C': [1000,10,60],\n",
    "    'Chave': ['AA', 'BB', 'CC']\n",
    "}\n",
    "\n",
    "# Dicionario 3\n",
    "\n",
    "Dicionario_03 = {\n",
    "    'A': [11,12,13],\n",
    "    'B': [-39,-22,-11],\n",
    "    'C': [ 30,10,20],\n",
    "    'Chave': ['AA', 'BB', 'CC']\n",
    "}\n",
    "\n",
    "# Criando as listas para serem os labels\n",
    "\n",
    "Label_01 = ['1ª Linha', '2ª Linha', '3ª Linha']\n",
    "Label_02 = ['4ª Linha', '5ª Linha', '6ª Linha']\n",
    "Label_03 = ['7ª Linha', '8ª Linha', '9ª Linha']\n",
    "\n",
    "# Criando os DataFrames \n",
    "Dataframe_01n = pd.DataFrame(Dicionario_01, index=Label_01)\n",
    "Dataframe_02n = pd.DataFrame(Dicionario_02, index=Label_02)\n",
    "Dataframe_03n = pd.DataFrame(Dicionario_03, index=Label_03)"
   ]
  },
  {
   "cell_type": "code",
   "execution_count": 56,
   "id": "b191975c",
   "metadata": {},
   "outputs": [
    {
     "data": {
      "text/html": [
       "<div>\n",
       "<style scoped>\n",
       "    .dataframe tbody tr th:only-of-type {\n",
       "        vertical-align: middle;\n",
       "    }\n",
       "\n",
       "    .dataframe tbody tr th {\n",
       "        vertical-align: top;\n",
       "    }\n",
       "\n",
       "    .dataframe thead th {\n",
       "        text-align: right;\n",
       "    }\n",
       "</style>\n",
       "<table border=\"1\" class=\"dataframe\">\n",
       "  <thead>\n",
       "    <tr style=\"text-align: right;\">\n",
       "      <th></th>\n",
       "      <th>A</th>\n",
       "      <th>B</th>\n",
       "      <th>C</th>\n",
       "      <th>Chave</th>\n",
       "    </tr>\n",
       "  </thead>\n",
       "  <tbody>\n",
       "    <tr>\n",
       "      <th>1ª Linha</th>\n",
       "      <td>1</td>\n",
       "      <td>-32</td>\n",
       "      <td>60</td>\n",
       "      <td>AA</td>\n",
       "    </tr>\n",
       "    <tr>\n",
       "      <th>2ª Linha</th>\n",
       "      <td>2</td>\n",
       "      <td>-21</td>\n",
       "      <td>10</td>\n",
       "      <td>BB</td>\n",
       "    </tr>\n",
       "    <tr>\n",
       "      <th>3ª Linha</th>\n",
       "      <td>3</td>\n",
       "      <td>-15</td>\n",
       "      <td>20</td>\n",
       "      <td>CC</td>\n",
       "    </tr>\n",
       "  </tbody>\n",
       "</table>\n",
       "</div>"
      ],
      "text/plain": [
       "          A   B   C Chave\n",
       "1ª Linha  1 -32  60    AA\n",
       "2ª Linha  2 -21  10    BB\n",
       "3ª Linha  3 -15  20    CC"
      ]
     },
     "execution_count": 56,
     "metadata": {},
     "output_type": "execute_result"
    }
   ],
   "source": [
    "Dataframe_01n"
   ]
  },
  {
   "cell_type": "code",
   "execution_count": 57,
   "id": "fec2cea7",
   "metadata": {},
   "outputs": [
    {
     "data": {
      "text/html": [
       "<div>\n",
       "<style scoped>\n",
       "    .dataframe tbody tr th:only-of-type {\n",
       "        vertical-align: middle;\n",
       "    }\n",
       "\n",
       "    .dataframe tbody tr th {\n",
       "        vertical-align: top;\n",
       "    }\n",
       "\n",
       "    .dataframe thead th {\n",
       "        text-align: right;\n",
       "    }\n",
       "</style>\n",
       "<table border=\"1\" class=\"dataframe\">\n",
       "  <thead>\n",
       "    <tr style=\"text-align: right;\">\n",
       "      <th></th>\n",
       "      <th>A</th>\n",
       "      <th>B</th>\n",
       "      <th>C</th>\n",
       "      <th>Chave</th>\n",
       "    </tr>\n",
       "  </thead>\n",
       "  <tbody>\n",
       "    <tr>\n",
       "      <th>4ª Linha</th>\n",
       "      <td>6</td>\n",
       "      <td>-39</td>\n",
       "      <td>1000</td>\n",
       "      <td>AA</td>\n",
       "    </tr>\n",
       "    <tr>\n",
       "      <th>5ª Linha</th>\n",
       "      <td>7</td>\n",
       "      <td>-28</td>\n",
       "      <td>10</td>\n",
       "      <td>BB</td>\n",
       "    </tr>\n",
       "    <tr>\n",
       "      <th>6ª Linha</th>\n",
       "      <td>8</td>\n",
       "      <td>17</td>\n",
       "      <td>60</td>\n",
       "      <td>CC</td>\n",
       "    </tr>\n",
       "  </tbody>\n",
       "</table>\n",
       "</div>"
      ],
      "text/plain": [
       "          A   B     C Chave\n",
       "4ª Linha  6 -39  1000    AA\n",
       "5ª Linha  7 -28    10    BB\n",
       "6ª Linha  8  17    60    CC"
      ]
     },
     "execution_count": 57,
     "metadata": {},
     "output_type": "execute_result"
    }
   ],
   "source": [
    "Dataframe_02n"
   ]
  },
  {
   "cell_type": "code",
   "execution_count": 58,
   "id": "57011b7c",
   "metadata": {},
   "outputs": [
    {
     "data": {
      "text/html": [
       "<div>\n",
       "<style scoped>\n",
       "    .dataframe tbody tr th:only-of-type {\n",
       "        vertical-align: middle;\n",
       "    }\n",
       "\n",
       "    .dataframe tbody tr th {\n",
       "        vertical-align: top;\n",
       "    }\n",
       "\n",
       "    .dataframe thead th {\n",
       "        text-align: right;\n",
       "    }\n",
       "</style>\n",
       "<table border=\"1\" class=\"dataframe\">\n",
       "  <thead>\n",
       "    <tr style=\"text-align: right;\">\n",
       "      <th></th>\n",
       "      <th>A</th>\n",
       "      <th>B</th>\n",
       "      <th>C</th>\n",
       "      <th>Chave</th>\n",
       "    </tr>\n",
       "  </thead>\n",
       "  <tbody>\n",
       "    <tr>\n",
       "      <th>7ª Linha</th>\n",
       "      <td>11</td>\n",
       "      <td>-39</td>\n",
       "      <td>30</td>\n",
       "      <td>AA</td>\n",
       "    </tr>\n",
       "    <tr>\n",
       "      <th>8ª Linha</th>\n",
       "      <td>12</td>\n",
       "      <td>-22</td>\n",
       "      <td>10</td>\n",
       "      <td>BB</td>\n",
       "    </tr>\n",
       "    <tr>\n",
       "      <th>9ª Linha</th>\n",
       "      <td>13</td>\n",
       "      <td>-11</td>\n",
       "      <td>20</td>\n",
       "      <td>CC</td>\n",
       "    </tr>\n",
       "  </tbody>\n",
       "</table>\n",
       "</div>"
      ],
      "text/plain": [
       "           A   B   C Chave\n",
       "7ª Linha  11 -39  30    AA\n",
       "8ª Linha  12 -22  10    BB\n",
       "9ª Linha  13 -11  20    CC"
      ]
     },
     "execution_count": 58,
     "metadata": {},
     "output_type": "execute_result"
    }
   ],
   "source": [
    "Dataframe_03n"
   ]
  },
  {
   "cell_type": "code",
   "execution_count": 59,
   "id": "5724d3c9",
   "metadata": {},
   "outputs": [
    {
     "data": {
      "text/html": [
       "<div>\n",
       "<style scoped>\n",
       "    .dataframe tbody tr th:only-of-type {\n",
       "        vertical-align: middle;\n",
       "    }\n",
       "\n",
       "    .dataframe tbody tr th {\n",
       "        vertical-align: top;\n",
       "    }\n",
       "\n",
       "    .dataframe thead th {\n",
       "        text-align: right;\n",
       "    }\n",
       "</style>\n",
       "<table border=\"1\" class=\"dataframe\">\n",
       "  <thead>\n",
       "    <tr style=\"text-align: right;\">\n",
       "      <th></th>\n",
       "      <th>A</th>\n",
       "      <th>B</th>\n",
       "      <th>C</th>\n",
       "      <th>Chave</th>\n",
       "    </tr>\n",
       "  </thead>\n",
       "  <tbody>\n",
       "    <tr>\n",
       "      <th>1ª Linha</th>\n",
       "      <td>1</td>\n",
       "      <td>-32</td>\n",
       "      <td>60</td>\n",
       "      <td>AA</td>\n",
       "    </tr>\n",
       "    <tr>\n",
       "      <th>2ª Linha</th>\n",
       "      <td>2</td>\n",
       "      <td>-21</td>\n",
       "      <td>10</td>\n",
       "      <td>BB</td>\n",
       "    </tr>\n",
       "    <tr>\n",
       "      <th>3ª Linha</th>\n",
       "      <td>3</td>\n",
       "      <td>-15</td>\n",
       "      <td>20</td>\n",
       "      <td>CC</td>\n",
       "    </tr>\n",
       "    <tr>\n",
       "      <th>4ª Linha</th>\n",
       "      <td>6</td>\n",
       "      <td>-39</td>\n",
       "      <td>1000</td>\n",
       "      <td>AA</td>\n",
       "    </tr>\n",
       "    <tr>\n",
       "      <th>5ª Linha</th>\n",
       "      <td>7</td>\n",
       "      <td>-28</td>\n",
       "      <td>10</td>\n",
       "      <td>BB</td>\n",
       "    </tr>\n",
       "    <tr>\n",
       "      <th>6ª Linha</th>\n",
       "      <td>8</td>\n",
       "      <td>17</td>\n",
       "      <td>60</td>\n",
       "      <td>CC</td>\n",
       "    </tr>\n",
       "    <tr>\n",
       "      <th>7ª Linha</th>\n",
       "      <td>11</td>\n",
       "      <td>-39</td>\n",
       "      <td>30</td>\n",
       "      <td>AA</td>\n",
       "    </tr>\n",
       "    <tr>\n",
       "      <th>8ª Linha</th>\n",
       "      <td>12</td>\n",
       "      <td>-22</td>\n",
       "      <td>10</td>\n",
       "      <td>BB</td>\n",
       "    </tr>\n",
       "    <tr>\n",
       "      <th>9ª Linha</th>\n",
       "      <td>13</td>\n",
       "      <td>-11</td>\n",
       "      <td>20</td>\n",
       "      <td>CC</td>\n",
       "    </tr>\n",
       "  </tbody>\n",
       "</table>\n",
       "</div>"
      ],
      "text/plain": [
       "           A   B     C Chave\n",
       "1ª Linha   1 -32    60    AA\n",
       "2ª Linha   2 -21    10    BB\n",
       "3ª Linha   3 -15    20    CC\n",
       "4ª Linha   6 -39  1000    AA\n",
       "5ª Linha   7 -28    10    BB\n",
       "6ª Linha   8  17    60    CC\n",
       "7ª Linha  11 -39    30    AA\n",
       "8ª Linha  12 -22    10    BB\n",
       "9ª Linha  13 -11    20    CC"
      ]
     },
     "execution_count": 59,
     "metadata": {},
     "output_type": "execute_result"
    }
   ],
   "source": [
    "# Juntando os DataFrames com concat\n",
    "# Empilhando os DataFrames \n",
    "\n",
    "pd.concat([Dataframe_01n, Dataframe_02n, Dataframe_03n])"
   ]
  },
  {
   "cell_type": "code",
   "execution_count": 60,
   "id": "eec4dd88",
   "metadata": {},
   "outputs": [
    {
     "data": {
      "text/html": [
       "<div>\n",
       "<style scoped>\n",
       "    .dataframe tbody tr th:only-of-type {\n",
       "        vertical-align: middle;\n",
       "    }\n",
       "\n",
       "    .dataframe tbody tr th {\n",
       "        vertical-align: top;\n",
       "    }\n",
       "\n",
       "    .dataframe thead th {\n",
       "        text-align: right;\n",
       "    }\n",
       "</style>\n",
       "<table border=\"1\" class=\"dataframe\">\n",
       "  <thead>\n",
       "    <tr style=\"text-align: right;\">\n",
       "      <th></th>\n",
       "      <th>A_x</th>\n",
       "      <th>B_x</th>\n",
       "      <th>C_x</th>\n",
       "      <th>Chave</th>\n",
       "      <th>A_y</th>\n",
       "      <th>B_y</th>\n",
       "      <th>C_y</th>\n",
       "    </tr>\n",
       "  </thead>\n",
       "  <tbody>\n",
       "    <tr>\n",
       "      <th>0</th>\n",
       "      <td>1</td>\n",
       "      <td>-32</td>\n",
       "      <td>60</td>\n",
       "      <td>AA</td>\n",
       "      <td>6</td>\n",
       "      <td>-39</td>\n",
       "      <td>1000</td>\n",
       "    </tr>\n",
       "    <tr>\n",
       "      <th>1</th>\n",
       "      <td>2</td>\n",
       "      <td>-21</td>\n",
       "      <td>10</td>\n",
       "      <td>BB</td>\n",
       "      <td>7</td>\n",
       "      <td>-28</td>\n",
       "      <td>10</td>\n",
       "    </tr>\n",
       "    <tr>\n",
       "      <th>2</th>\n",
       "      <td>3</td>\n",
       "      <td>-15</td>\n",
       "      <td>20</td>\n",
       "      <td>CC</td>\n",
       "      <td>8</td>\n",
       "      <td>17</td>\n",
       "      <td>60</td>\n",
       "    </tr>\n",
       "  </tbody>\n",
       "</table>\n",
       "</div>"
      ],
      "text/plain": [
       "   A_x  B_x  C_x Chave  A_y  B_y   C_y\n",
       "0    1  -32   60    AA    6  -39  1000\n",
       "1    2  -21   10    BB    7  -28    10\n",
       "2    3  -15   20    CC    8   17    60"
      ]
     },
     "execution_count": 60,
     "metadata": {},
     "output_type": "execute_result"
    }
   ],
   "source": [
    "# Juntando DataFrame com merge \n",
    "\n",
    "pd.merge (Dataframe_01n, Dataframe_02n, how='inner', on='Chave')"
   ]
  },
  {
   "cell_type": "code",
   "execution_count": 62,
   "id": "03402077",
   "metadata": {},
   "outputs": [
    {
     "data": {
      "text/html": [
       "<div>\n",
       "<style scoped>\n",
       "    .dataframe tbody tr th:only-of-type {\n",
       "        vertical-align: middle;\n",
       "    }\n",
       "\n",
       "    .dataframe tbody tr th {\n",
       "        vertical-align: top;\n",
       "    }\n",
       "\n",
       "    .dataframe thead th {\n",
       "        text-align: right;\n",
       "    }\n",
       "</style>\n",
       "<table border=\"1\" class=\"dataframe\">\n",
       "  <thead>\n",
       "    <tr style=\"text-align: right;\">\n",
       "      <th></th>\n",
       "      <th>A_x</th>\n",
       "      <th>B_x</th>\n",
       "      <th>C_x</th>\n",
       "      <th>Chave</th>\n",
       "      <th>A_y</th>\n",
       "      <th>B_y</th>\n",
       "      <th>C_y</th>\n",
       "    </tr>\n",
       "  </thead>\n",
       "  <tbody>\n",
       "    <tr>\n",
       "      <th>0</th>\n",
       "      <td>1</td>\n",
       "      <td>-32</td>\n",
       "      <td>60</td>\n",
       "      <td>AA</td>\n",
       "      <td>11</td>\n",
       "      <td>-39</td>\n",
       "      <td>30</td>\n",
       "    </tr>\n",
       "    <tr>\n",
       "      <th>1</th>\n",
       "      <td>2</td>\n",
       "      <td>-21</td>\n",
       "      <td>10</td>\n",
       "      <td>BB</td>\n",
       "      <td>12</td>\n",
       "      <td>-22</td>\n",
       "      <td>10</td>\n",
       "    </tr>\n",
       "    <tr>\n",
       "      <th>2</th>\n",
       "      <td>3</td>\n",
       "      <td>-15</td>\n",
       "      <td>20</td>\n",
       "      <td>CC</td>\n",
       "      <td>13</td>\n",
       "      <td>-11</td>\n",
       "      <td>20</td>\n",
       "    </tr>\n",
       "  </tbody>\n",
       "</table>\n",
       "</div>"
      ],
      "text/plain": [
       "   A_x  B_x  C_x Chave  A_y  B_y  C_y\n",
       "0    1  -32   60    AA   11  -39   30\n",
       "1    2  -21   10    BB   12  -22   10\n",
       "2    3  -15   20    CC   13  -11   20"
      ]
     },
     "execution_count": 62,
     "metadata": {},
     "output_type": "execute_result"
    }
   ],
   "source": [
    "# Juntando DataFrame com merge \n",
    "\n",
    "pd.merge (Dataframe_01n, Dataframe_03n, how='left', on='Chave')"
   ]
  },
  {
   "cell_type": "code",
   "execution_count": 63,
   "id": "ce818c55",
   "metadata": {},
   "outputs": [
    {
     "name": "stdout",
     "output_type": "stream",
     "text": [
      "          A   B   C Chave\n",
      "1ª Linha  1 -32  60    AA\n",
      "2ª Linha  2 -21  10    BB\n",
      "3ª Linha  3 -15  20    CC\n",
      "           A   B   C Chave\n",
      "7ª Linha  11 -39  30    AA\n",
      "8ª Linha  12 -22  10    BB\n",
      "9ª Linha  13 -11  20    CC\n"
     ]
    }
   ],
   "source": [
    "print(Dataframe_01n)\n",
    "print(Dataframe_03n)"
   ]
  },
  {
   "cell_type": "code",
   "execution_count": 64,
   "id": "10800ef1",
   "metadata": {},
   "outputs": [
    {
     "data": {
      "text/html": [
       "<div>\n",
       "<style scoped>\n",
       "    .dataframe tbody tr th:only-of-type {\n",
       "        vertical-align: middle;\n",
       "    }\n",
       "\n",
       "    .dataframe tbody tr th {\n",
       "        vertical-align: top;\n",
       "    }\n",
       "\n",
       "    .dataframe thead th {\n",
       "        text-align: right;\n",
       "    }\n",
       "</style>\n",
       "<table border=\"1\" class=\"dataframe\">\n",
       "  <thead>\n",
       "    <tr style=\"text-align: right;\">\n",
       "      <th></th>\n",
       "      <th>A_x</th>\n",
       "      <th>B_x</th>\n",
       "      <th>C_x</th>\n",
       "      <th>Chave</th>\n",
       "      <th>A_y</th>\n",
       "      <th>B_y</th>\n",
       "      <th>C_y</th>\n",
       "    </tr>\n",
       "  </thead>\n",
       "  <tbody>\n",
       "    <tr>\n",
       "      <th>0</th>\n",
       "      <td>1</td>\n",
       "      <td>-32</td>\n",
       "      <td>60</td>\n",
       "      <td>AA</td>\n",
       "      <td>11</td>\n",
       "      <td>-39</td>\n",
       "      <td>30</td>\n",
       "    </tr>\n",
       "    <tr>\n",
       "      <th>1</th>\n",
       "      <td>2</td>\n",
       "      <td>-21</td>\n",
       "      <td>10</td>\n",
       "      <td>BB</td>\n",
       "      <td>12</td>\n",
       "      <td>-22</td>\n",
       "      <td>10</td>\n",
       "    </tr>\n",
       "    <tr>\n",
       "      <th>2</th>\n",
       "      <td>3</td>\n",
       "      <td>-15</td>\n",
       "      <td>20</td>\n",
       "      <td>CC</td>\n",
       "      <td>13</td>\n",
       "      <td>-11</td>\n",
       "      <td>20</td>\n",
       "    </tr>\n",
       "  </tbody>\n",
       "</table>\n",
       "</div>"
      ],
      "text/plain": [
       "   A_x  B_x  C_x Chave  A_y  B_y  C_y\n",
       "0    1  -32   60    AA   11  -39   30\n",
       "1    2  -21   10    BB   12  -22   10\n",
       "2    3  -15   20    CC   13  -11   20"
      ]
     },
     "execution_count": 64,
     "metadata": {},
     "output_type": "execute_result"
    }
   ],
   "source": [
    "# Juntando DataFrame com merge \n",
    "\n",
    "pd.merge (Dataframe_01n, Dataframe_03n, how='right', on='Chave')"
   ]
  },
  {
   "cell_type": "code",
   "execution_count": 65,
   "id": "0800ed40",
   "metadata": {},
   "outputs": [
    {
     "data": {
      "text/html": [
       "<div>\n",
       "<style scoped>\n",
       "    .dataframe tbody tr th:only-of-type {\n",
       "        vertical-align: middle;\n",
       "    }\n",
       "\n",
       "    .dataframe tbody tr th {\n",
       "        vertical-align: top;\n",
       "    }\n",
       "\n",
       "    .dataframe thead th {\n",
       "        text-align: right;\n",
       "    }\n",
       "</style>\n",
       "<table border=\"1\" class=\"dataframe\">\n",
       "  <thead>\n",
       "    <tr style=\"text-align: right;\">\n",
       "      <th></th>\n",
       "      <th>A_x</th>\n",
       "      <th>B_x</th>\n",
       "      <th>C_x</th>\n",
       "      <th>Chave</th>\n",
       "      <th>A_y</th>\n",
       "      <th>B_y</th>\n",
       "      <th>C_y</th>\n",
       "    </tr>\n",
       "  </thead>\n",
       "  <tbody>\n",
       "    <tr>\n",
       "      <th>0</th>\n",
       "      <td>1</td>\n",
       "      <td>-32</td>\n",
       "      <td>60</td>\n",
       "      <td>AA</td>\n",
       "      <td>11</td>\n",
       "      <td>-39</td>\n",
       "      <td>30</td>\n",
       "    </tr>\n",
       "    <tr>\n",
       "      <th>1</th>\n",
       "      <td>2</td>\n",
       "      <td>-21</td>\n",
       "      <td>10</td>\n",
       "      <td>BB</td>\n",
       "      <td>12</td>\n",
       "      <td>-22</td>\n",
       "      <td>10</td>\n",
       "    </tr>\n",
       "    <tr>\n",
       "      <th>2</th>\n",
       "      <td>3</td>\n",
       "      <td>-15</td>\n",
       "      <td>20</td>\n",
       "      <td>CC</td>\n",
       "      <td>13</td>\n",
       "      <td>-11</td>\n",
       "      <td>20</td>\n",
       "    </tr>\n",
       "  </tbody>\n",
       "</table>\n",
       "</div>"
      ],
      "text/plain": [
       "   A_x  B_x  C_x Chave  A_y  B_y  C_y\n",
       "0    1  -32   60    AA   11  -39   30\n",
       "1    2  -21   10    BB   12  -22   10\n",
       "2    3  -15   20    CC   13  -11   20"
      ]
     },
     "execution_count": 65,
     "metadata": {},
     "output_type": "execute_result"
    }
   ],
   "source": [
    "# Juntando DataFrame com merge \n",
    "\n",
    "pd.merge (Dataframe_01n, Dataframe_03n, how='outer', on='Chave')"
   ]
  }
 ],
 "metadata": {
  "kernelspec": {
   "display_name": "Python 3",
   "language": "python",
   "name": "python3"
  },
  "language_info": {
   "codemirror_mode": {
    "name": "ipython",
    "version": 3
   },
   "file_extension": ".py",
   "mimetype": "text/x-python",
   "name": "python",
   "nbconvert_exporter": "python",
   "pygments_lexer": "ipython3",
   "version": "3.13.1"
  }
 },
 "nbformat": 4,
 "nbformat_minor": 5
}
