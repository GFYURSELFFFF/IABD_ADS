{
 "cells": [
  {
   "cell_type": "code",
   "execution_count": null,
   "id": "f264df36",
   "metadata": {},
   "outputs": [],
   "source": [
    "# Exercicio 01 - Atividade\n",
    "!pip install pandas\n",
    "import pandas as pd\n"
   ]
  },
  {
   "cell_type": "code",
   "execution_count": null,
   "id": "6bbfc14f",
   "metadata": {},
   "outputs": [
    {
     "data": {
      "text/html": [
       "<div>\n",
       "<style scoped>\n",
       "    .dataframe tbody tr th:only-of-type {\n",
       "        vertical-align: middle;\n",
       "    }\n",
       "\n",
       "    .dataframe tbody tr th {\n",
       "        vertical-align: top;\n",
       "    }\n",
       "\n",
       "    .dataframe thead th {\n",
       "        text-align: right;\n",
       "    }\n",
       "</style>\n",
       "<table border=\"1\" class=\"dataframe\">\n",
       "  <thead>\n",
       "    <tr style=\"text-align: right;\">\n",
       "      <th></th>\n",
       "      <th>Nomes</th>\n",
       "    </tr>\n",
       "  </thead>\n",
       "  <tbody>\n",
       "    <tr>\n",
       "      <th>1ª Linha</th>\n",
       "      <td>Alice</td>\n",
       "    </tr>\n",
       "    <tr>\n",
       "      <th>2ª Linha</th>\n",
       "      <td>Julia</td>\n",
       "    </tr>\n",
       "    <tr>\n",
       "      <th>3ª Linha</th>\n",
       "      <td>Bruna</td>\n",
       "    </tr>\n",
       "    <tr>\n",
       "      <th>4ª Linha</th>\n",
       "      <td>Daniel</td>\n",
       "    </tr>\n",
       "    <tr>\n",
       "      <th>5ª Linha</th>\n",
       "      <td>Filipe</td>\n",
       "    </tr>\n",
       "    <tr>\n",
       "      <th>6ª Linha</th>\n",
       "      <td>Silvio</td>\n",
       "    </tr>\n",
       "  </tbody>\n",
       "</table>\n",
       "</div>"
      ],
      "text/plain": [
       "           Nomes\n",
       "1ª Linha   Alice\n",
       "2ª Linha   Julia\n",
       "3ª Linha   Bruna\n",
       "4ª Linha  Daniel\n",
       "5ª Linha  Filipe\n",
       "6ª Linha  Silvio"
      ]
     },
     "execution_count": 4,
     "metadata": {},
     "output_type": "execute_result"
    }
   ],
   "source": [
    "# Exercicio 01 - Atividade\n",
    "\n",
    "# Criação do Dicionario \n",
    "\n",
    "dicionario = {\n",
    "    'Nomes': ['Alice', 'Julia', 'Bruna', 'Daniel', 'Filipe', 'Silvio'],\n",
    "    'Idade': ['19', '22', '28', '34', '28', '48'],\n",
    "    \n",
    "}\n",
    "\n",
    "# Criação do index \n",
    "label = ['1ª', '2ª', '3ª', '4ª', '5ª', '6ª']\n",
    "\n",
    "# Criação do DataFrame \n",
    "dataframe1 = pd.DataFrame(dicionario, index=label)\n",
    "dataframe1"
   ]
  }
 ],
 "metadata": {
  "kernelspec": {
   "display_name": "Python 3",
   "language": "python",
   "name": "python3"
  },
  "language_info": {
   "codemirror_mode": {
    "name": "ipython",
    "version": 3
   },
   "file_extension": ".py",
   "mimetype": "text/x-python",
   "name": "python",
   "nbconvert_exporter": "python",
   "pygments_lexer": "ipython3",
   "version": "3.13.1"
  }
 },
 "nbformat": 4,
 "nbformat_minor": 5
}
