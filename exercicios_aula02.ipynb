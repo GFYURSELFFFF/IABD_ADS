{
 "cells": [
  {
   "cell_type": "code",
   "execution_count": null,
   "id": "f264df36",
   "metadata": {},
   "outputs": [],
   "source": [
    "# Exercicio 01 - Atividade\n",
    "!pip install pandas\n",
    "import pandas as pd\n",
    "\n"
   ]
  }
 ],
 "metadata": {
  "language_info": {
   "name": "python"
  }
 },
 "nbformat": 4,
 "nbformat_minor": 5
}
